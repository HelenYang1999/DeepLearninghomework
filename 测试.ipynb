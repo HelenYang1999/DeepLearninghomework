{
 "cells": [
  {
   "cell_type": "code",
   "execution_count": 2,
   "metadata": {},
   "outputs": [
    {
     "name": "stdout",
     "output_type": "stream",
     "text": [
      "(10, 10, 3)\n",
      "tensor([[[178,  55, 165,  24, 114,  53,  81, 226, 150, 183],\n",
      "         [ 96, 148, 148, 122, 188, 168, 141, 227,  79,  51],\n",
      "         [ 48,  21, 127,  41,  30, 143, 218,  33, 175, 105],\n",
      "         [ 92, 194,  62,  42, 230, 126, 230,  70, 161, 123],\n",
      "         [ 69, 224, 253, 218, 231,  87, 245,  98,  86, 229],\n",
      "         [ 55,  78,  89,  20, 164, 134, 211,   9, 110, 202],\n",
      "         [ 41,  97, 167, 112,  57, 153,   0, 154, 228, 128],\n",
      "         [213,  68,  68,  28, 225,  68, 146, 110, 118, 240],\n",
      "         [242,  88, 254, 172, 145, 161, 123,  86, 110, 163],\n",
      "         [ 60,  24, 145,  15, 181,  38,  34,  37,  83,  83]],\n",
      "\n",
      "        [[ 77,  10,  52,  11,  99, 127,  67,   5,  37,  50],\n",
      "         [110,  90, 123,   9,  41,  90, 221,  69, 153,  92],\n",
      "         [ 83, 212, 218, 193,  37,  85,  43,   6, 172, 239],\n",
      "         [183,  59, 109, 108,  61,  88,  46, 195, 189,  13],\n",
      "         [ 18, 163, 191,   5,  36,  20, 197,  50, 108,  62],\n",
      "         [245, 182, 104, 247,  39, 114, 133,  43,  49,   5],\n",
      "         [182,  18, 224,  13, 165, 215, 212,  33,  64, 143],\n",
      "         [136, 111,  26, 133, 196,  97, 143, 157, 236,  22],\n",
      "         [ 46,  70,   0, 181,  78,  29,  18,  31,   4,  96],\n",
      "         [235, 214, 128, 252, 102, 131, 137, 149, 131, 103]],\n",
      "\n",
      "        [[122,  52, 126, 155,  98,  73,   8, 224,  64, 167],\n",
      "         [ 70,  95, 185, 126, 231, 133, 178,  47, 165, 246],\n",
      "         [192,  41,  13, 159,  96, 225,  48,  16, 209,  23],\n",
      "         [142, 110, 186, 182, 248,  63, 187,  56, 194, 136],\n",
      "         [120,  15,  72,  33,  67, 114,  50,  40, 238, 244],\n",
      "         [ 82, 120, 213,  29, 164, 167, 151,  29, 118,  90],\n",
      "         [ 52, 190, 214, 183,  18, 240, 137, 167, 240,  85],\n",
      "         [120,  18, 251,  40,   8, 201, 103, 166,  49, 181],\n",
      "         [191, 154,  29, 163, 110, 239, 217, 236, 155,  22],\n",
      "         [ 68, 166, 131, 121, 211,   6, 231,  50,  85, 209]]],\n",
      "       dtype=torch.int32)\n"
     ]
    }
   ],
   "source": [
    "import numpy as np\n",
    "import torch\n",
    "import torchvision.transforms as transforms\n",
    "#test torchvision.transforms.ToTensor\n",
    "data = np.random.randint(0, 255, size=300)\n",
    "img = data.reshape(10,10,3)\n",
    "print(img.shape)\n",
    "img_tensor = transforms.ToTensor()(img) # 转换成tensor\n",
    "print(img_tensor)"
   ]
  },
  {
   "cell_type": "code",
   "execution_count": 3,
   "metadata": {},
   "outputs": [
    {
     "name": "stdout",
     "output_type": "stream",
     "text": [
      "Downloading http://yann.lecun.com/exdb/mnist/train-images-idx3-ubyte.gz to ceshi\\MNIST\\raw\\train-images-idx3-ubyte.gz\n"
     ]
    },
    {
     "name": "stderr",
     "output_type": "stream",
     "text": [
      "100.1%"
     ]
    },
    {
     "name": "stdout",
     "output_type": "stream",
     "text": [
      "Extracting ceshi\\MNIST\\raw\\train-images-idx3-ubyte.gz to ceshi\\MNIST\\raw\n",
      "Downloading http://yann.lecun.com/exdb/mnist/train-labels-idx1-ubyte.gz to ceshi\\MNIST\\raw\\train-labels-idx1-ubyte.gz\n"
     ]
    },
    {
     "name": "stderr",
     "output_type": "stream",
     "text": [
      "113.5%"
     ]
    },
    {
     "name": "stdout",
     "output_type": "stream",
     "text": [
      "Extracting ceshi\\MNIST\\raw\\train-labels-idx1-ubyte.gz to ceshi\\MNIST\\raw\n",
      "Downloading http://yann.lecun.com/exdb/mnist/t10k-images-idx3-ubyte.gz to ceshi\\MNIST\\raw\\t10k-images-idx3-ubyte.gz\n"
     ]
    },
    {
     "name": "stderr",
     "output_type": "stream",
     "text": [
      "100.4%"
     ]
    },
    {
     "name": "stdout",
     "output_type": "stream",
     "text": [
      "Extracting ceshi\\MNIST\\raw\\t10k-images-idx3-ubyte.gz to ceshi\\MNIST\\raw\n",
      "Downloading http://yann.lecun.com/exdb/mnist/t10k-labels-idx1-ubyte.gz to ceshi\\MNIST\\raw\\t10k-labels-idx1-ubyte.gz\n"
     ]
    },
    {
     "name": "stderr",
     "output_type": "stream",
     "text": [
      "180.4%"
     ]
    },
    {
     "name": "stdout",
     "output_type": "stream",
     "text": [
      "Extracting ceshi\\MNIST\\raw\\t10k-labels-idx1-ubyte.gz to ceshi\\MNIST\\raw\n",
      "Processing...\n",
      "Done!\n"
     ]
    }
   ],
   "source": [
    "from torchvision import datasets\n",
    "train_data = datasets.MNIST('ceshi',train=True,download = True)\n",
    "transform = transforms.ToTensor()\n",
    "train_data1 = datasets.MNIST('ceshi',train=True,transform = transform, download = True)"
   ]
  },
  {
   "cell_type": "code",
   "execution_count": 22,
   "metadata": {
    "scrolled": false
   },
   "outputs": [
    {
     "name": "stdout",
     "output_type": "stream",
     "text": [
      "<class 'torchvision.datasets.mnist.MNIST'>\n",
      "<class 'torch.utils.data.dataloader.DataLoader'>\n",
      "<class 'torch.utils.data.dataloader._SingleProcessDataLoaderIter'>\n",
      "<class 'torch.Tensor'>\n",
      "<class 'torch.Tensor'>\n",
      "(20, 1, 28, 28)\n",
      "(1, 28, 28)\n",
      "(28, 28)\n"
     ]
    }
   ],
   "source": [
    "import matplotlib.pyplot as plt\n",
    "%matplotlib inline\n",
    "\n",
    "train_loader = torch.utils.data.DataLoader(train_data1, batch_size=20, num_workers=0)\n",
    "dataiter = iter(train_loader)\n",
    "images, labels = dataiter.next()\n",
    "print(type(train_data1))\n",
    "print(type(train_loader))\n",
    "print(type(dataiter))\n",
    "print(type(images))\n",
    "print(type(labels))\n",
    "images = images.numpy()\n",
    "print(images.shape)\n",
    "print(images[0].shape)\n",
    "print(np.squeeze(images[0]).shape)"
   ]
  },
  {
   "cell_type": "code",
   "execution_count": 1,
   "metadata": {},
   "outputs": [
    {
     "name": "stdout",
     "output_type": "stream",
     "text": [
      "1\n"
     ]
    }
   ],
   "source": [
    "for i in range(10):\n",
    "    j = 1\n",
    "print(j)"
   ]
  }
 ],
 "metadata": {
  "kernelspec": {
   "display_name": "Python [conda env:pytorch]",
   "language": "python",
   "name": "conda-env-pytorch-py"
  },
  "language_info": {
   "codemirror_mode": {
    "name": "ipython",
    "version": 3
   },
   "file_extension": ".py",
   "mimetype": "text/x-python",
   "name": "python",
   "nbconvert_exporter": "python",
   "pygments_lexer": "ipython3",
   "version": "3.6.12"
  }
 },
 "nbformat": 4,
 "nbformat_minor": 4
}
