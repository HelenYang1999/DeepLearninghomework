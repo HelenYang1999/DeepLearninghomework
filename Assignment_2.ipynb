{
  "nbformat": 4,
  "nbformat_minor": 0,
  "metadata": {
    "kernelspec": {
      "name": "python3",
      "display_name": "Python 3"
    },
    "colab": {
      "name": "Assignment 2.ipynb",
      "provenance": [],
      "collapsed_sections": []
    },
    "accelerator": "GPU"
  },
  "cells": [
    {
      "cell_type": "markdown",
      "metadata": {
        "id": "l9MgPrpBI36B"
      },
      "source": [
        "# Assignment 2: DenseNet with CIFAR10 Dataset by TensorFlow"
      ]
    },
    {
      "cell_type": "markdown",
      "metadata": {
        "id": "SdKz6v44I36C"
      },
      "source": [
        "In this assignment, you are required to implement DenseNet to classify images from the [CIFAR10 dataset](https://www.cs.toronto.edu/~kriz/cifar.html) by using TensorFlow with Keras. DenseNet is very well-known and therefore it has been implemented and pre-trained by Keras. You are also required to load and test the pre-trained models, and compare them with your models.\n",
        "\n",
        "First of all, read the DenseNet paper. DenseNet was originally proposed in 2016 by Gao Huang, Zhuang Liu, Laurens van der Maaten, Kilian Q. Weinberger in the following paper:\n",
        "https://arxiv.org/abs/1608.06993\n",
        "\n",
        "The process will be broken down into the following steps:\n",
        ">1. Answer a short question about DenseNet. (10 marks)\n",
        "2. Load and visualize the data.\n",
        "3. Implement your models. (30 marks)\n",
        "4. Train and evaluate your models. (25 marks)\n",
        "5. Load the pre-trained models from Keras and evaluate them. (15 marks)\n",
        "6. Analysis your results. (20 marks)"
      ]
    },
    {
      "cell_type": "markdown",
      "metadata": {
        "id": "ila4LbgmI36D"
      },
      "source": [
        "---\n",
        "## 1. Answer a short question (20 marks)\n",
        "\n",
        "Now that you know what DenseNet is all about, let's compare it to VGG.\n",
        "Both VGG and DenseNet papers describe several variations of their models that differ by their depth.\n",
        "For example, VGG16 and VGG19, DenseNet-121 and DenseNet-169 are four examples from these papers.\n",
        "\n",
        "Aside from difference in network depth, how is the architecture of DenseNet different from that of VGG? Please enter your answer in the next cell (approximately 100-200 words, both English and Chinese are acceptable)."
      ]
    },
    {
      "cell_type": "markdown",
      "metadata": {
        "id": "t0tAnDb2I36D"
      },
      "source": [
        "VGG网络是基于AlexNet的改进，主要思想是用多个小卷积核来代替一个大卷积核，使网络结构变得\n",
        "复杂，学到更多信息的同时参数变得更少，网络变得更有效率。DenseNet主要是基于ResNet的改进，通过对特征图的重用，达到更浅的网络、更少的参数、更好的性能。DenseNet在设计网络的时候，也借鉴了VGG的结构，卷积层主要使用的是3×3的小卷积核。"
      ]
    },
    {
      "cell_type": "markdown",
      "metadata": {
        "id": "dcw96NNiI36E"
      },
      "source": [
        "---\n",
        "## 2. Load and visualize the data.\n",
        "\n",
        "The data is directly loaded into memory."
      ]
    },
    {
      "cell_type": "code",
      "metadata": {
        "id": "vmFA3LcQI36E",
        "outputId": "55c335b0-3335-4502-be0c-888c1a8d522a"
      },
      "source": [
        "from tensorflow.keras.datasets import cifar10\n",
        "from tensorflow.keras.utils import to_categorical\n",
        "\n",
        "num_classes = 10\n",
        "\n",
        "# load the CIFAR10 data\n",
        "(x_train, y_train), (x_test, y_test) = cifar10.load_data()\n",
        "\n",
        "# input image dimensions\n",
        "input_shape = x_train.shape[1:]\n",
        "\n",
        "# mormalize data\n",
        "x_train = x_train.astype('float32') / 255\n",
        "x_test = x_test.astype('float32') / 255\n",
        "print('x_train shape:', x_train.shape)\n",
        "print(x_train.shape[0], 'train samples')\n",
        "print(x_test.shape[0], 'test samples')\n",
        "print('y_train shape:', y_train.shape)\n",
        "print(y_train[0])\n",
        "# convert class vectors to binary class matrices.\n",
        "#独热编码，将6转换成[0,0,0,0,0,0,1,0,0,0]\n",
        "# y_train = to_categorical(y_train, num_classes)\n",
        "# print('y_train shape:', y_train.shape)\n",
        "# print(y_train[0])\n",
        "from tensorflow.keras.datasets import cifar10from tensorflow.keras.datasets import cifar10# y_test = to_categorical(y_test, num_classes)"
      ],
      "execution_count": null,
      "outputs": [
        {
          "output_type": "stream",
          "text": [
            "x_train shape: (50000, 32, 32, 3)\n",
            "50000 train samples\n",
            "10000 test samples\n",
            "y_train shape: (50000, 1)\n",
            "[6]\n"
          ],
          "name": "stdout"
        }
      ]
    },
    {
      "cell_type": "code",
      "metadata": {
        "id": "wxQzyXibI36I",
        "outputId": "6da57f4e-f917-45b7-e887-6a7eb1de9298",
        "colab": {
          "base_uri": "https://localhost:8080/"
        }
      },
      "source": [
        "from tensorflow.keras.datasets import cifar10\n",
        "\n",
        "(x_train, y_train), (x_test, y_test) = cifar10.load_data()\n",
        "\n",
        "x_train = x_train.reshape((50000, 32, 32, 3)).astype('float32') / 255\n",
        "x_test = x_test.reshape((10000, 32, 32, 3)).astype('float32') / 255\n"
      ],
      "execution_count": 3,
      "outputs": [
        {
          "output_type": "stream",
          "text": [
            "Downloading data from https://www.cs.toronto.edu/~kriz/cifar-10-python.tar.gz\n",
            "170500096/170498071 [==============================] - 4s 0us/step\n"
          ],
          "name": "stdout"
        }
      ]
    },
    {
      "cell_type": "code",
      "metadata": {
        "id": "AixYOkFyI36L",
        "outputId": "e2e4235c-baf9-4642-a93c-e91d2b69a14d",
        "colab": {
          "base_uri": "https://localhost:8080/",
          "height": 283
        }
      },
      "source": [
        "import matplotlib.pyplot as plt\n",
        "plt.imshow(x_train[0])"
      ],
      "execution_count": null,
      "outputs": [
        {
          "output_type": "execute_result",
          "data": {
            "text/plain": [
              "<matplotlib.image.AxesImage at 0x7f3612f96da0>"
            ]
          },
          "metadata": {
            "tags": []
          },
          "execution_count": 2
        },
        {
          "output_type": "display_data",
          "data": {
            "image/png": "[encoded data removed]",
            "text/plain": [
              "<Figure size 432x288 with 1 Axes>"
            ]
          },
          "metadata": {
            "tags": [],
            "needs_background": "light"
          }
        }
      ]
    },
    {
      "cell_type": "markdown",
      "metadata": {
        "id": "QogGM03yI36N"
      },
      "source": [
        "---\n",
        "## 3. Implement your models (30 marks)\n",
        "\n",
        "In this task, you are required to implement DenseNet-121 and DenseNet-169 as depicted in the original paper."
      ]
    },
    {
      "cell_type": "code",
      "metadata": {
        "scrolled": false,
        "id": "5pGyBOJwI36O",
        "outputId": "f529c856-2266-4a27-f4a2-3d5ce8b448fa",
        "colab": {
          "base_uri": "https://localhost:8080/"
        }
      },
      "source": [
        "# implement the code of your DenseNet-121 model here.\n",
        "#https://keras.io/zh/layers/convolutional/\n",
        "import tensorflow as tf\n",
        "from tensorflow.keras import layers\n",
        "\n",
        "#https://keras.io/zh/layers/writing-your-own-keras-layers/  Keras2.0needed\n",
        "#2.2.4-tf Satisfied\n",
        "\n",
        "# 瓶颈层，相当于每一个稠密块中若干个相同的H函数\n",
        "class BottleNeck(layers.Layer):\n",
        "    # growth_rate对应的是论文中的增长率k，指经过一个BottleNet输出的特征图的通道数；drop_rate指失活率。\n",
        "    def __init__(self, growth_rate, drop_rate):\n",
        "        super(BottleNeck, self).__init__()\n",
        "        self.bn1 = layers.BatchNormalization()\n",
        "        self.conv1 = layers.Conv2D(filters=4 * growth_rate,  # 使用1*1卷积核将通道数降维到4*k\n",
        "                                            kernel_size=(1, 1),\n",
        "                                            strides=1,\n",
        "                                            padding=\"same\")\n",
        "        self.bn2 = layers.BatchNormalization()\n",
        "        self.relu = layers.ReLU()\n",
        "        self.conv2 = layers.Conv2D(filters=growth_rate,  # 使用3*3卷积核，使得输出维度（通道数）为k\n",
        "                                            kernel_size=(3, 3),\n",
        "                                            strides=1,\n",
        "                                            padding=\"same\")\n",
        "        self.dropout = layers.Dropout(rate=drop_rate)\n",
        "        # 将网络层存入一个列表中\n",
        "        self.listLayers = [self.bn1,\n",
        "                           self.relu,\n",
        "                           self.conv1,\n",
        "                           self.bn2,\n",
        "                           self.relu,\n",
        "                           self.conv2,\n",
        "                           self.dropout]\n",
        "\n",
        "    def call(self, x):\n",
        "        y = x\n",
        "        for layer in self.listLayers.layers:\n",
        "            y = layer(y)\n",
        "        # 每经过一个BottleNet，将输入和输出按通道连结。作用是：将前l层的输入连结起来，作为下一个BottleNet的输入。\n",
        "        y = layers.concatenate([x, y], axis=-1)\n",
        "        return y\n",
        "\n",
        "# 稠密块，由若干个相同的瓶颈层构成\n",
        "class DenseBlock(layers.Layer):\n",
        "    # num_layers表示该稠密块存在BottleNet的个数，也就是一个稠密块的层数L\n",
        "    def __init__(self, num_layers, growth_rate, drop_rate=0.5):\n",
        "        super(DenseBlock, self).__init__()\n",
        "        self.num_layers = num_layers\n",
        "        self.growth_rate = growth_rate\n",
        "        self.drop_rate = drop_rate\n",
        "        self.listLayers = []\n",
        "        # 一个DenseBlock由多个相同的BottleNeck构成，我们将它们放入一个列表中。\n",
        "        for _ in range(num_layers):\n",
        "            self.listLayers.append(BottleNeck(growth_rate=self.growth_rate, drop_rate=self.drop_rate))\n",
        "\n",
        "    def call(self, x):\n",
        "        for layer in self.listLayers.layers:\n",
        "            x = layer(x)\n",
        "        return x\n",
        "\n",
        "# 过渡层\n",
        "class TransitionLayer(layers.Layer):\n",
        "    # out_channels代表输出通道数\n",
        "    def __init__(self, out_channels):\n",
        "        super(TransitionLayer, self).__init__()\n",
        "        self.bn = layers.BatchNormalization()\n",
        "        self.relu = layers.ReLU()\n",
        "        self.conv = layers.Conv2D(filters=out_channels,\n",
        "                                           kernel_size=(1, 1),\n",
        "                                           strides=1,\n",
        "                                           padding=\"same\")\n",
        "        self.pool = layers.MaxPool2D(pool_size=(2, 2),   # 2倍下采样\n",
        "                                              strides=2,\n",
        "                                              padding=\"same\")\n",
        "\n",
        "    def call(self, inputs):\n",
        "        x = self.bn(inputs)\n",
        "        x = self.relu(x)\n",
        "        x = self.conv(x)\n",
        "        x = self.pool(x)\n",
        "        return x\n",
        "\n",
        "# DenseNet整体网络结构\n",
        "class DenseNet(tf.keras.Model):\n",
        "    # num_init_features:代表初始的通道数，即输入稠密块时的通道数\n",
        "    # growth_rate:对应的是论文中的增长率k，指经过一个BottleNet输出的特征图的通道数\n",
        "    # block_layers:每个稠密块中的BottleNet的个数\n",
        "    # compression_rate:压缩因子，其值在(0,1]范围内\n",
        "    # drop_rate：失活率\n",
        "    def __init__(self, num_init_features, growth_rate, block_layers, compression_rate, drop_rate):\n",
        "        super(DenseNet, self).__init__()\n",
        "        # 第一层，7*7的卷积层，2倍下采样。\n",
        "        self.conv = layers.Conv2D(filters=num_init_features,\n",
        "                                           kernel_size=(7, 7),\n",
        "                                           strides=2,\n",
        "                                           padding=\"same\")\n",
        "        self.bn = layers.BatchNormalization()\n",
        "        # 最大池化层，3*3卷积核，2倍下采样\n",
        "        self.pool = layers.MaxPool2D(pool_size=(3, 3), strides=2, padding=\"same\")\n",
        "        self.relu = layers.ReLU()\n",
        "        # 稠密块 Dense Block(1)\n",
        "        self.num_channels = num_init_features\n",
        "        self.dense_block_1 = DenseBlock(num_layers=block_layers[0], growth_rate=growth_rate, drop_rate=drop_rate)\n",
        "        # 该稠密块总的输出的通道数\n",
        "        self.num_channels += growth_rate * block_layers[0]\n",
        "        # 对特征图的通道数进行压缩\n",
        "        self.num_channels = compression_rate * self.num_channels\n",
        "        # 过渡层1，过渡层进行下采样\n",
        "        self.transition_1 = TransitionLayer(out_channels=int(self.num_channels))\n",
        "\n",
        "        # 稠密块 Dense Block(2)\n",
        "        self.dense_block_2 = DenseBlock(num_layers=block_layers[1], growth_rate=growth_rate, drop_rate=drop_rate)\n",
        "        self.num_channels += growth_rate * block_layers[1]\n",
        "        self.num_channels = compression_rate * self.num_channels\n",
        "        # 过渡层2，2倍下采样，输出：14*14\n",
        "        self.transition_2 = TransitionLayer(out_channels=int(self.num_channels))\n",
        "\n",
        "        # 稠密块 Dense Block(3)\n",
        "        self.dense_block_3 = DenseBlock(num_layers=block_layers[2], growth_rate=growth_rate, drop_rate=drop_rate)\n",
        "        self.num_channels += growth_rate * block_layers[2]\n",
        "        self.num_channels = compression_rate * self.num_channels\n",
        "        # 过渡层3，2倍下采样\n",
        "        self.transition_3 = TransitionLayer(out_channels=int(self.num_channels))\n",
        "\n",
        "        # 稠密块 Dense Block(4)\n",
        "        self.dense_block_4 = DenseBlock(num_layers=block_layers[3], growth_rate=growth_rate, drop_rate=drop_rate)\n",
        "\n",
        "        # 全局平均池化，输出size：1*1\n",
        "        self.avgpool = layers.GlobalAveragePooling2D()\n",
        "        # 全连接层，进行10分类\n",
        "        self.fc = layers.Dense(units=10, activation=tf.keras.activations.softmax)\n",
        "\n",
        "    def call(self, inputs):\n",
        "        x = self.conv(inputs)\n",
        "        x = self.bn(x)\n",
        "        x = self.relu(x)\n",
        "        x = self.pool(x)\n",
        "\n",
        "        x = self.dense_block_1(x)\n",
        "        x = self.transition_1(x)\n",
        "        x = self.dense_block_2(x)\n",
        "        x = self.transition_2(x)\n",
        "        x = self.dense_block_3(x)\n",
        "        x = self.transition_3(x,)\n",
        "        x = self.dense_block_4(x)\n",
        "\n",
        "        x = self.avgpool(x)\n",
        "        x = self.fc(x)\n",
        "\n",
        "        return x\n",
        "    \n",
        "def densenet_121():\n",
        "    return DenseNet(num_init_features=64, growth_rate=32, block_layers=[6, 12, 24, 16], compression_rate=0.5, drop_rate=0.5)\n",
        "\n",
        "densenet_121 = densenet_121()\n",
        "\n",
        "densenet_121.build(input_shape=(50000, 32, 32, 3))\n",
        "\n",
        "densenet_121.summary()\n"
      ],
      "execution_count": null,
      "outputs": [
        {
          "output_type": "stream",
          "text": [
            "Model: \"dense_net_3\"\n",
            "_________________________________________________________________\n",
            "Layer (type)                 Output Shape              Param #   \n",
            "=================================================================\n",
            "conv2d_408 (Conv2D)          multiple                  9472      \n",
            "_________________________________________________________________\n",
            "batch_normalization_408 (Bat multiple                  256       \n",
            "_________________________________________________________________\n",
            "max_pooling2d_12 (MaxPooling multiple                  0         \n",
            "_________________________________________________________________\n",
            "re_lu_210 (ReLU)             multiple                  0         \n",
            "_________________________________________________________________\n",
            "dense_block_12 (DenseBlock)  multiple                  339264    \n",
            "_________________________________________________________________\n",
            "transition_layer_9 (Transiti multiple                  33920     \n",
            "_________________________________________________________________\n",
            "dense_block_13 (DenseBlock)  multiple                  931968    \n",
            "_________________________________________________________________\n",
            "transition_layer_10 (Transit multiple                  133376    \n",
            "_________________________________________________________________\n",
            "dense_block_14 (DenseBlock)  multiple                  2877696   \n",
            "_________________________________________________________________\n",
            "transition_layer_11 (Transit multiple                  528896    \n",
            "_________________________________________________________________\n",
            "dense_block_15 (DenseBlock)  multiple                  2188800   \n",
            "_________________________________________________________________\n",
            "global_average_pooling2d_7 ( multiple                  0         \n",
            "_________________________________________________________________\n",
            "dense_7 (Dense)              multiple                  10250     \n",
            "=================================================================\n",
            "Total params: 7,053,898\n",
            "Trainable params: 6,972,298\n",
            "Non-trainable params: 81,600\n",
            "_________________________________________________________________\n"
          ],
          "name": "stdout"
        }
      ]
    },
    {
      "cell_type": "code",
      "metadata": {
        "id": "rX9W5amaI36Q",
        "outputId": "ca94a189-f1b9-460d-e605-6edc6c4e558c",
        "colab": {
          "base_uri": "https://localhost:8080/"
        }
      },
      "source": [
        "# implement the code of your DenseNet-169 model here.\n",
        "def densenet_169():\n",
        "    return DenseNet(num_init_features=64, growth_rate=32, block_layers=[6, 12, 32, 32], compression_rate=0.5, drop_rate=0.5)\n",
        "\n",
        "densenet_169 = densenet_169()\n",
        "\n",
        "densenet_169.build(input_shape=(50000, 32, 32, 3))\n",
        "\n",
        "densenet_169.summary()\n"
      ],
      "execution_count": 32,
      "outputs": [
        {
          "output_type": "stream",
          "text": [
            "Model: \"dense_net_4\"\n",
            "_________________________________________________________________\n",
            "Layer (type)                 Output Shape              Param #   \n",
            "=================================================================\n",
            "conv2d_528 (Conv2D)          multiple                  9472      \n",
            "_________________________________________________________________\n",
            "batch_normalization_528 (Bat multiple                  256       \n",
            "_________________________________________________________________\n",
            "max_pooling2d_16 (MaxPooling multiple                  0         \n",
            "_________________________________________________________________\n",
            "re_lu_272 (ReLU)             multiple                  0         \n",
            "_________________________________________________________________\n",
            "dense_block_16 (DenseBlock)  multiple                  339264    \n",
            "_________________________________________________________________\n",
            "transition_layer_12 (Transit multiple                  33920     \n",
            "_________________________________________________________________\n",
            "dense_block_17 (DenseBlock)  multiple                  931968    \n",
            "_________________________________________________________________\n",
            "transition_layer_13 (Transit multiple                  133376    \n",
            "_________________________________________________________________\n",
            "dense_block_18 (DenseBlock)  multiple                  4377600   \n",
            "_________________________________________________________________\n",
            "transition_layer_14 (Transit multiple                  824960    \n",
            "_________________________________________________________________\n",
            "dense_block_19 (DenseBlock)  multiple                  5999616   \n",
            "_________________________________________________________________\n",
            "global_average_pooling2d_8 ( multiple                  0         \n",
            "_________________________________________________________________\n",
            "dense_8 (Dense)              multiple                  16650     \n",
            "=================================================================\n",
            "Total params: 12,667,082\n",
            "Trainable params: 12,512,010\n",
            "Non-trainable params: 155,072\n",
            "_________________________________________________________________\n"
          ],
          "name": "stdout"
        }
      ]
    },
    {
      "cell_type": "markdown",
      "metadata": {
        "id": "Qs06sYdFI36T"
      },
      "source": [
        "---\n",
        "## 4. Train and evaluate your models. (25 marks)"
      ]
    },
    {
      "cell_type": "markdown",
      "metadata": {
        "id": "MNc7Zw61I36T"
      },
      "source": [
        "### 4.1 Train your models. (20 marks)"
      ]
    },
    {
      "cell_type": "code",
      "metadata": {
        "scrolled": true,
        "id": "tPT2pIVcI36U",
        "outputId": "3e68494e-7485-4728-c35c-7508c0703e6a",
        "colab": {
          "base_uri": "https://localhost:8080/",
          "height": 1000
        }
      },
      "source": [
        "# implement your code here.\n",
        "#Train densenet_121\n",
        "\n",
        "densenet_121.compile(loss='sparse_categorical_crossentropy',\n",
        "              optimizer=tf.keras.optimizers.SGD(lr=0.1),\n",
        "              metrics=['accuracy'])\n",
        "\n",
        "history = densenet_121.fit(x_train, y_train,\n",
        "                    batch_size=64,\n",
        "                    epochs=30,verbose=2,\n",
        "                    validation_split=0.1)\n",
        "\n",
        "import matplotlib.pyplot as plt\n",
        "plt.plot(history.history['accuracy'])\n",
        "plt.plot(history.history['val_accuracy'])\n",
        "plt.legend(['training', 'validation'], loc='upper left')\n",
        "plt.show()"
      ],
      "execution_count": 25,
      "outputs": [
        {
          "output_type": "stream",
          "text": [
            "Epoch 1/30\n",
            "704/704 - 29s - loss: 1.4656 - accuracy: 0.4719 - val_loss: 3.2847 - val_accuracy: 0.2366\n",
            "Epoch 2/30\n",
            "704/704 - 26s - loss: 1.2969 - accuracy: 0.5346 - val_loss: 1.8024 - val_accuracy: 0.3746\n",
            "Epoch 3/30\n",
            "704/704 - 27s - loss: 1.1703 - accuracy: 0.5835 - val_loss: 1.7608 - val_accuracy: 0.3746\n",
            "Epoch 4/30\n",
            "704/704 - 26s - loss: 1.0680 - accuracy: 0.6188 - val_loss: 1.7015 - val_accuracy: 0.3848\n",
            "Epoch 5/30\n",
            "704/704 - 26s - loss: 0.9847 - accuracy: 0.6522 - val_loss: 2.3902 - val_accuracy: 0.2970\n",
            "Epoch 6/30\n",
            "704/704 - 26s - loss: 0.9177 - accuracy: 0.6768 - val_loss: 1.6909 - val_accuracy: 0.4736\n",
            "Epoch 7/30\n",
            "704/704 - 26s - loss: 0.8564 - accuracy: 0.6986 - val_loss: 2.1093 - val_accuracy: 0.4742\n",
            "Epoch 8/30\n",
            "704/704 - 26s - loss: 0.8007 - accuracy: 0.7200 - val_loss: 1.9798 - val_accuracy: 0.4348\n",
            "Epoch 9/30\n",
            "704/704 - 26s - loss: 0.7508 - accuracy: 0.7371 - val_loss: 0.8776 - val_accuracy: 0.7036\n",
            "Epoch 10/30\n",
            "704/704 - 26s - loss: 0.7062 - accuracy: 0.7536 - val_loss: 1.0302 - val_accuracy: 0.6600\n",
            "Epoch 11/30\n",
            "704/704 - 26s - loss: 0.6697 - accuracy: 0.7653 - val_loss: 1.1796 - val_accuracy: 0.6586\n",
            "Epoch 12/30\n",
            "704/704 - 26s - loss: 0.6340 - accuracy: 0.7772 - val_loss: 1.5935 - val_accuracy: 0.5402\n",
            "Epoch 13/30\n",
            "704/704 - 26s - loss: 0.6069 - accuracy: 0.7878 - val_loss: 2.1036 - val_accuracy: 0.4794\n",
            "Epoch 14/30\n",
            "704/704 - 26s - loss: 0.5736 - accuracy: 0.7979 - val_loss: 5.4402 - val_accuracy: 0.3084\n",
            "Epoch 15/30\n",
            "704/704 - 26s - loss: 0.5464 - accuracy: 0.8073 - val_loss: 1.2056 - val_accuracy: 0.6536\n",
            "Epoch 16/30\n",
            "704/704 - 26s - loss: 0.5190 - accuracy: 0.8165 - val_loss: 2.4351 - val_accuracy: 0.4786\n",
            "Epoch 17/30\n",
            "704/704 - 26s - loss: 0.4947 - accuracy: 0.8255 - val_loss: 1.6616 - val_accuracy: 0.6002\n",
            "Epoch 18/30\n",
            "704/704 - 26s - loss: 0.4621 - accuracy: 0.8362 - val_loss: 1.7213 - val_accuracy: 0.6036\n",
            "Epoch 19/30\n",
            "704/704 - 26s - loss: 0.4384 - accuracy: 0.8458 - val_loss: 3.4511 - val_accuracy: 0.4880\n",
            "Epoch 20/30\n",
            "704/704 - 26s - loss: 0.4189 - accuracy: 0.8508 - val_loss: 6.9277 - val_accuracy: 0.2104\n",
            "Epoch 21/30\n",
            "704/704 - 26s - loss: 0.4032 - accuracy: 0.8574 - val_loss: 1.2410 - val_accuracy: 0.6916\n",
            "Epoch 22/30\n",
            "704/704 - 26s - loss: 0.3720 - accuracy: 0.8695 - val_loss: 1.1232 - val_accuracy: 0.7308\n",
            "Epoch 23/30\n",
            "704/704 - 26s - loss: 0.3559 - accuracy: 0.8722 - val_loss: 2.0057 - val_accuracy: 0.6114\n",
            "Epoch 24/30\n",
            "704/704 - 26s - loss: 0.3349 - accuracy: 0.8815 - val_loss: 4.2266 - val_accuracy: 0.4124\n",
            "Epoch 25/30\n",
            "704/704 - 26s - loss: 0.3229 - accuracy: 0.8848 - val_loss: 3.4193 - val_accuracy: 0.4744\n",
            "Epoch 26/30\n",
            "704/704 - 27s - loss: 0.3013 - accuracy: 0.8909 - val_loss: 2.9410 - val_accuracy: 0.5650\n",
            "Epoch 27/30\n",
            "704/704 - 26s - loss: 0.2875 - accuracy: 0.8978 - val_loss: 1.6758 - val_accuracy: 0.6766\n",
            "Epoch 28/30\n",
            "704/704 - 26s - loss: 0.2693 - accuracy: 0.9031 - val_loss: 1.6908 - val_accuracy: 0.6638\n",
            "Epoch 29/30\n",
            "704/704 - 27s - loss: 0.2600 - accuracy: 0.9064 - val_loss: 2.2048 - val_accuracy: 0.6076\n",
            "Epoch 30/30\n",
            "704/704 - 28s - loss: 0.2482 - accuracy: 0.9117 - val_loss: 3.6035 - val_accuracy: 0.5122\n"
          ],
          "name": "stdout"
        },
        {
          "output_type": "display_data",
          "data": {
            "image/png": "[encoded data removed]",
            "text/plain": [
              "<Figure size 432x288 with 1 Axes>"
            ]
          },
          "metadata": {
            "tags": [],
            "needs_background": "light"
          }
        }
      ]
    },
    {
      "cell_type": "code",
      "metadata": {
        "id": "o_W_iW3onqop",
        "outputId": "87f9e837-35de-4763-e8b9-6aa81baf3832",
        "colab": {
          "base_uri": "https://localhost:8080/"
        }
      },
      "source": [
        "#训练30个epoch后，得到的测试集准确率不够，再接着训练10个epoch\n",
        "densenet_121.compile(loss='sparse_categorical_crossentropy',\n",
        "              optimizer=tf.keras.optimizers.SGD(lr=0.1),\n",
        "              metrics=['accuracy'])\n",
        "\n",
        "history = densenet_121.fit(x_train, y_train,\n",
        "                    batch_size=64,\n",
        "                    epochs=10,verbose=2,\n",
        "                    validation_split=0.1)"
      ],
      "execution_count": 28,
      "outputs": [
        {
          "output_type": "stream",
          "text": [
            "Epoch 1/10\n",
            "704/704 - 30s - loss: 0.2300 - accuracy: 0.9176 - val_loss: 1.0783 - val_accuracy: 0.7728\n",
            "Epoch 2/10\n",
            "704/704 - 28s - loss: 0.2116 - accuracy: 0.9248 - val_loss: 3.5938 - val_accuracy: 0.5590\n",
            "Epoch 3/10\n",
            "704/704 - 27s - loss: 0.2073 - accuracy: 0.9252 - val_loss: 5.2963 - val_accuracy: 0.3328\n",
            "Epoch 4/10\n",
            "704/704 - 28s - loss: 0.1996 - accuracy: 0.9284 - val_loss: 1.4474 - val_accuracy: 0.7344\n",
            "Epoch 5/10\n",
            "704/704 - 28s - loss: 0.1788 - accuracy: 0.9352 - val_loss: 1.4329 - val_accuracy: 0.7484\n",
            "Epoch 6/10\n",
            "704/704 - 28s - loss: 0.1788 - accuracy: 0.9353 - val_loss: 1.4609 - val_accuracy: 0.7376\n",
            "Epoch 7/10\n",
            "704/704 - 28s - loss: 0.1672 - accuracy: 0.9400 - val_loss: 2.8642 - val_accuracy: 0.5902\n",
            "Epoch 8/10\n",
            "704/704 - 28s - loss: 0.1681 - accuracy: 0.9405 - val_loss: 3.1536 - val_accuracy: 0.5922\n",
            "Epoch 9/10\n",
            "704/704 - 28s - loss: 0.1587 - accuracy: 0.9436 - val_loss: 1.4210 - val_accuracy: 0.7360\n",
            "Epoch 10/10\n",
            "704/704 - 28s - loss: 0.1477 - accuracy: 0.9483 - val_loss: 1.5392 - val_accuracy: 0.7374\n"
          ],
          "name": "stdout"
        }
      ]
    },
    {
      "cell_type": "code",
      "metadata": {
        "id": "X9S8bJ6IpS8x",
        "outputId": "1bb7500e-dfe5-4a15-c5c9-3ed69f66488f",
        "colab": {
          "base_uri": "https://localhost:8080/"
        }
      },
      "source": [
        "#训练30个epoch后，得到的测试集准确率不够，再接着训练10个epoch\n",
        "densenet_121.compile(loss='sparse_categorical_crossentropy',\n",
        "              optimizer=tf.keras.optimizers.SGD(lr=0.1),\n",
        "              metrics=['accuracy'])\n",
        "\n",
        "history = densenet_121.fit(x_train, y_train,\n",
        "                    batch_size=64,\n",
        "                    epochs=10,verbose=2,\n",
        "                    validation_split=0.1)"
      ],
      "execution_count": 29,
      "outputs": [
        {
          "output_type": "stream",
          "text": [
            "Epoch 1/10\n",
            "704/704 - 32s - loss: 0.1378 - accuracy: 0.9505 - val_loss: 3.4830 - val_accuracy: 0.5870\n",
            "Epoch 2/10\n",
            "704/704 - 29s - loss: 0.1303 - accuracy: 0.9546 - val_loss: 4.1981 - val_accuracy: 0.5680\n",
            "Epoch 3/10\n",
            "704/704 - 29s - loss: 0.1296 - accuracy: 0.9541 - val_loss: 1.8012 - val_accuracy: 0.7274\n",
            "Epoch 4/10\n",
            "704/704 - 28s - loss: 0.1259 - accuracy: 0.9550 - val_loss: 2.0835 - val_accuracy: 0.6856\n",
            "Epoch 5/10\n",
            "704/704 - 27s - loss: 0.1230 - accuracy: 0.9566 - val_loss: 1.3603 - val_accuracy: 0.7734\n",
            "Epoch 6/10\n",
            "704/704 - 27s - loss: 0.1037 - accuracy: 0.9621 - val_loss: 3.7385 - val_accuracy: 0.5968\n",
            "Epoch 7/10\n",
            "704/704 - 29s - loss: 0.1100 - accuracy: 0.9614 - val_loss: 6.5603 - val_accuracy: 0.4558\n",
            "Epoch 8/10\n",
            "704/704 - 29s - loss: 0.1174 - accuracy: 0.9586 - val_loss: 5.5320 - val_accuracy: 0.4396\n",
            "Epoch 9/10\n",
            "704/704 - 29s - loss: 0.1258 - accuracy: 0.9563 - val_loss: 15.2172 - val_accuracy: 0.1682\n",
            "Epoch 10/10\n",
            "704/704 - 29s - loss: 0.1299 - accuracy: 0.9567 - val_loss: 1.9671 - val_accuracy: 0.7358\n"
          ],
          "name": "stdout"
        }
      ]
    },
    {
      "cell_type": "code",
      "metadata": {
        "id": "nXTKRCveI36b",
        "outputId": "1f9d8d1c-324c-455f-adaa-d10035910f3e",
        "colab": {
          "base_uri": "https://localhost:8080/"
        }
      },
      "source": [
        "#Train densenet_169\n",
        "densenet_169.compile(loss='sparse_categorical_crossentropy',\n",
        "              optimizer=tf.keras.optimizers.SGD(lr=0.1),\n",
        "              metrics=['accuracy'])\n",
        "\n",
        "history = densenet_169.fit(x_train, y_train,\n",
        "                    batch_size=64,\n",
        "                    epochs=50,verbose=2,\n",
        "                    validation_split=0.1)\n"
      ],
      "execution_count": 33,
      "outputs": [
        {
          "output_type": "stream",
          "text": [
            "Epoch 1/50\n",
            "704/704 - 41s - loss: 2.1158 - accuracy: 0.2932 - val_loss: 2.2229 - val_accuracy: 0.2460\n",
            "Epoch 2/50\n",
            "704/704 - 38s - loss: 1.7120 - accuracy: 0.3963 - val_loss: 2.4802 - val_accuracy: 0.3126\n",
            "Epoch 3/50\n",
            "704/704 - 37s - loss: 1.5405 - accuracy: 0.4566 - val_loss: 2.5067 - val_accuracy: 0.3146\n",
            "Epoch 4/50\n",
            "704/704 - 37s - loss: 1.3970 - accuracy: 0.5132 - val_loss: 2.5383 - val_accuracy: 0.3010\n",
            "Epoch 5/50\n",
            "704/704 - 37s - loss: 1.2897 - accuracy: 0.5491 - val_loss: 2.2835 - val_accuracy: 0.3202\n",
            "Epoch 6/50\n",
            "704/704 - 38s - loss: 1.1866 - accuracy: 0.5836 - val_loss: 1.8165 - val_accuracy: 0.4212\n",
            "Epoch 7/50\n",
            "704/704 - 38s - loss: 1.1066 - accuracy: 0.6158 - val_loss: 2.2554 - val_accuracy: 0.4296\n",
            "Epoch 8/50\n",
            "704/704 - 39s - loss: 1.0242 - accuracy: 0.6403 - val_loss: 2.8961 - val_accuracy: 0.2856\n",
            "Epoch 9/50\n",
            "704/704 - 38s - loss: 0.9581 - accuracy: 0.6674 - val_loss: 6.3813 - val_accuracy: 0.1528\n",
            "Epoch 10/50\n",
            "704/704 - 38s - loss: 0.9012 - accuracy: 0.6880 - val_loss: 2.7654 - val_accuracy: 0.3024\n",
            "Epoch 11/50\n",
            "704/704 - 39s - loss: 0.8454 - accuracy: 0.7089 - val_loss: 1.3764 - val_accuracy: 0.6002\n",
            "Epoch 12/50\n",
            "704/704 - 38s - loss: 0.7935 - accuracy: 0.7252 - val_loss: 4.6614 - val_accuracy: 0.2864\n",
            "Epoch 13/50\n",
            "704/704 - 37s - loss: 0.7576 - accuracy: 0.7381 - val_loss: 1.4697 - val_accuracy: 0.5740\n",
            "Epoch 14/50\n",
            "704/704 - 38s - loss: 0.7062 - accuracy: 0.7533 - val_loss: 1.2282 - val_accuracy: 0.6642\n",
            "Epoch 15/50\n",
            "704/704 - 39s - loss: 0.6704 - accuracy: 0.7646 - val_loss: 2.4010 - val_accuracy: 0.4556\n",
            "Epoch 16/50\n",
            "704/704 - 39s - loss: 0.6407 - accuracy: 0.7765 - val_loss: 1.8476 - val_accuracy: 0.5596\n",
            "Epoch 17/50\n",
            "704/704 - 38s - loss: 0.6115 - accuracy: 0.7850 - val_loss: 2.8796 - val_accuracy: 0.5124\n",
            "Epoch 18/50\n",
            "704/704 - 39s - loss: 0.5768 - accuracy: 0.7999 - val_loss: 1.5898 - val_accuracy: 0.6270\n",
            "Epoch 19/50\n",
            "704/704 - 39s - loss: 0.5453 - accuracy: 0.8094 - val_loss: 2.5592 - val_accuracy: 0.5058\n",
            "Epoch 20/50\n",
            "704/704 - 38s - loss: 0.5305 - accuracy: 0.8152 - val_loss: 2.7501 - val_accuracy: 0.3770\n",
            "Epoch 21/50\n",
            "704/704 - 38s - loss: 0.4992 - accuracy: 0.8246 - val_loss: 1.7904 - val_accuracy: 0.6200\n",
            "Epoch 22/50\n",
            "704/704 - 40s - loss: 0.4679 - accuracy: 0.8358 - val_loss: 1.5474 - val_accuracy: 0.6622\n",
            "Epoch 23/50\n",
            "704/704 - 40s - loss: 0.4436 - accuracy: 0.8447 - val_loss: 2.1194 - val_accuracy: 0.5480\n",
            "Epoch 24/50\n",
            "704/704 - 40s - loss: 0.4272 - accuracy: 0.8494 - val_loss: 1.4407 - val_accuracy: 0.6640\n",
            "Epoch 25/50\n",
            "704/704 - 39s - loss: 0.4130 - accuracy: 0.8554 - val_loss: 3.5708 - val_accuracy: 0.4204\n",
            "Epoch 26/50\n",
            "704/704 - 39s - loss: 0.3828 - accuracy: 0.8657 - val_loss: 1.9803 - val_accuracy: 0.6278\n",
            "Epoch 27/50\n",
            "704/704 - 40s - loss: 0.3522 - accuracy: 0.8751 - val_loss: 2.7392 - val_accuracy: 0.5368\n",
            "Epoch 28/50\n",
            "704/704 - 39s - loss: 0.3342 - accuracy: 0.8818 - val_loss: 7.1771 - val_accuracy: 0.3366\n",
            "Epoch 29/50\n",
            "704/704 - 39s - loss: 0.3175 - accuracy: 0.8879 - val_loss: 1.3173 - val_accuracy: 0.7344\n",
            "Epoch 30/50\n",
            "704/704 - 39s - loss: 0.2963 - accuracy: 0.8961 - val_loss: 7.0904 - val_accuracy: 0.3858\n",
            "Epoch 31/50\n",
            "704/704 - 39s - loss: 0.2969 - accuracy: 0.8977 - val_loss: 2.7425 - val_accuracy: 0.5532\n",
            "Epoch 32/50\n",
            "704/704 - 39s - loss: 0.2670 - accuracy: 0.9054 - val_loss: 1.3047 - val_accuracy: 0.7432\n",
            "Epoch 33/50\n",
            "704/704 - 39s - loss: 0.2488 - accuracy: 0.9118 - val_loss: 5.2684 - val_accuracy: 0.4026\n",
            "Epoch 34/50\n",
            "704/704 - 38s - loss: 0.2588 - accuracy: 0.9076 - val_loss: 1.6290 - val_accuracy: 0.7120\n",
            "Epoch 35/50\n",
            "704/704 - 39s - loss: 0.2391 - accuracy: 0.9177 - val_loss: 2.8537 - val_accuracy: 0.5306\n",
            "Epoch 36/50\n",
            "704/704 - 38s - loss: 0.2196 - accuracy: 0.9214 - val_loss: 2.7424 - val_accuracy: 0.5952\n",
            "Epoch 37/50\n",
            "704/704 - 38s - loss: 0.1993 - accuracy: 0.9286 - val_loss: 3.3078 - val_accuracy: 0.6060\n",
            "Epoch 38/50\n",
            "704/704 - 38s - loss: 0.1976 - accuracy: 0.9293 - val_loss: 3.4135 - val_accuracy: 0.5872\n",
            "Epoch 39/50\n",
            "704/704 - 38s - loss: 0.1808 - accuracy: 0.9359 - val_loss: 9.8669 - val_accuracy: 0.2794\n",
            "Epoch 40/50\n",
            "704/704 - 38s - loss: 0.1817 - accuracy: 0.9367 - val_loss: 1.6064 - val_accuracy: 0.7376\n",
            "Epoch 41/50\n",
            "704/704 - 38s - loss: 0.1607 - accuracy: 0.9433 - val_loss: 3.7463 - val_accuracy: 0.5532\n",
            "Epoch 42/50\n",
            "704/704 - 38s - loss: 0.1577 - accuracy: 0.9446 - val_loss: 6.3860 - val_accuracy: 0.4546\n",
            "Epoch 43/50\n",
            "704/704 - 39s - loss: 0.1546 - accuracy: 0.9452 - val_loss: 1.6975 - val_accuracy: 0.7348\n",
            "Epoch 44/50\n",
            "704/704 - 38s - loss: 0.1441 - accuracy: 0.9489 - val_loss: 2.2376 - val_accuracy: 0.6712\n",
            "Epoch 45/50\n",
            "704/704 - 38s - loss: 0.1442 - accuracy: 0.9498 - val_loss: 8.2398 - val_accuracy: 0.4042\n",
            "Epoch 46/50\n",
            "704/704 - 38s - loss: 0.1510 - accuracy: 0.9481 - val_loss: 1.4742 - val_accuracy: 0.7650\n",
            "Epoch 47/50\n",
            "704/704 - 38s - loss: 0.1115 - accuracy: 0.9596 - val_loss: 4.7824 - val_accuracy: 0.5452\n",
            "Epoch 48/50\n",
            "704/704 - 38s - loss: 0.1262 - accuracy: 0.9551 - val_loss: 2.5630 - val_accuracy: 0.6616\n",
            "Epoch 49/50\n",
            "704/704 - 38s - loss: 0.1137 - accuracy: 0.9593 - val_loss: 1.5265 - val_accuracy: 0.7662\n",
            "Epoch 50/50\n",
            "704/704 - 40s - loss: 0.1003 - accuracy: 0.9649 - val_loss: 1.6507 - val_accuracy: 0.7582\n"
          ],
          "name": "stdout"
        }
      ]
    },
    {
      "cell_type": "markdown",
      "metadata": {
        "id": "h3pIZ-XYI36g"
      },
      "source": [
        "### 4.2 Test your models. (5 marks)"
      ]
    },
    {
      "cell_type": "code",
      "metadata": {
        "id": "viH2rEf6I36Z",
        "outputId": "c4d1d9f5-5b4e-4f39-b04f-09022e43f08c",
        "colab": {
          "base_uri": "https://localhost:8080/"
        }
      },
      "source": [
        "# implement your code here.\n",
        "#test densenet_121 \n",
        "loss,accuracy = densenet_121.evaluate(x_test,y_test,verbose=2)\n",
        "print('test loss',loss)\n",
        "print('test accuracy',accuracy)"
      ],
      "execution_count": 30,
      "outputs": [
        {
          "output_type": "stream",
          "text": [
            "313/313 - 3s - loss: 1.9614 - accuracy: 0.7277\n",
            "test loss 1.9614012241363525\n",
            "test accuracy 0.7276999950408936\n"
          ],
          "name": "stdout"
        }
      ]
    },
    {
      "cell_type": "code",
      "metadata": {
        "id": "1S-1l9X5I36j",
        "outputId": "d2e93480-6667-4495-9610-5c22dcf7f3eb",
        "colab": {
          "base_uri": "https://localhost:8080/"
        }
      },
      "source": [
        "#test densenet_169 \n",
        "loss,accuracy = densenet_169.evaluate(x_test,y_test,verbose=2)\n",
        "print('test loss',loss)\n",
        "print('test accuracy',accuracy)"
      ],
      "execution_count": 34,
      "outputs": [
        {
          "output_type": "stream",
          "text": [
            "313/313 - 5s - loss: 1.7371 - accuracy: 0.7418\n",
            "test loss 1.737108826637268\n",
            "test accuracy 0.7418000102043152\n"
          ],
          "name": "stdout"
        }
      ]
    },
    {
      "cell_type": "markdown",
      "metadata": {
        "id": "wSemnBuZI36l"
      },
      "source": [
        "---\n",
        "## 5. Load the pre-trained models from Keras and evaluate them. (15 marks)"
      ]
    },
    {
      "cell_type": "code",
      "metadata": {
        "scrolled": false,
        "id": "0s4qVfACI36m",
        "outputId": "87887fac-3cdc-4505-b152-04e879f0cbfb",
        "colab": {
          "base_uri": "https://localhost:8080/"
        }
      },
      "source": [
        "from tensorflow.keras.applications.densenet import DenseNet121, DenseNet169\n",
        "import tensorflow as tf\n",
        "from tensorflow.keras.utils import to_categorical\n",
        "\n",
        "\n",
        "base_model = DenseNet121(include_top=False,weights='imagenet',input_shape=(32,32,3))\n",
        "x = base_model.output\n",
        "x = tf.keras.layers.GlobalAveragePooling2D()(x) \n",
        "predictions = tf.keras.layers.Dense(units=10, activation=tf.keras.activations.softmax)(x)\n",
        "dense121_model = tf.keras.Model(inputs=base_model.input, outputs=predictions)\n",
        "\n",
        "dense121_model.compile(loss='sparse_categorical_crossentropy',\n",
        "              optimizer=tf.keras.optimizers.SGD(),\n",
        "              metrics=['accuracy'])\n",
        "\n",
        "history = dense121_model.fit(x_train, y_train,\n",
        "                    batch_size=64,\n",
        "                    epochs=30,\n",
        "                    validation_split=0.1)\n",
        "# implement your code here."
      ],
      "execution_count": 6,
      "outputs": [
        {
          "output_type": "stream",
          "text": [
            "Downloading data from https://storage.googleapis.com/tensorflow/keras-applications/densenet/densenet121_weights_tf_dim_ordering_tf_kernels_notop.h5\n",
            "29089792/29084464 [==============================] - 0s 0us/step\n",
            "Epoch 1/30\n",
            "704/704 [==============================] - 27s 39ms/step - loss: 1.0143 - accuracy: 0.6541 - val_loss: 0.8309 - val_accuracy: 0.7164\n",
            "Epoch 2/30\n",
            "704/704 [==============================] - 25s 36ms/step - loss: 0.5686 - accuracy: 0.8021 - val_loss: 0.8126 - val_accuracy: 0.7214\n",
            "Epoch 3/30\n",
            "704/704 [==============================] - 25s 36ms/step - loss: 0.4091 - accuracy: 0.8576 - val_loss: 0.6574 - val_accuracy: 0.7922\n",
            "Epoch 4/30\n",
            "704/704 [==============================] - 25s 36ms/step - loss: 0.3020 - accuracy: 0.8958 - val_loss: 1.0350 - val_accuracy: 0.6888\n",
            "Epoch 5/30\n",
            "704/704 [==============================] - 25s 35ms/step - loss: 0.2313 - accuracy: 0.9189 - val_loss: 0.6851 - val_accuracy: 0.7888\n",
            "Epoch 6/30\n",
            "704/704 [==============================] - 25s 35ms/step - loss: 0.1778 - accuracy: 0.9392 - val_loss: 0.7114 - val_accuracy: 0.7974\n",
            "Epoch 7/30\n",
            "704/704 [==============================] - 25s 35ms/step - loss: 0.1313 - accuracy: 0.9544 - val_loss: 1.4399 - val_accuracy: 0.6076\n",
            "Epoch 8/30\n",
            "704/704 [==============================] - 25s 35ms/step - loss: 0.1376 - accuracy: 0.9523 - val_loss: 1.1270 - val_accuracy: 0.7004\n",
            "Epoch 9/30\n",
            "704/704 [==============================] - 25s 35ms/step - loss: 0.1062 - accuracy: 0.9629 - val_loss: 1.2360 - val_accuracy: 0.7016\n",
            "Epoch 10/30\n",
            "704/704 [==============================] - 26s 36ms/step - loss: 0.0786 - accuracy: 0.9732 - val_loss: 2.0491 - val_accuracy: 0.5838\n",
            "Epoch 11/30\n",
            "704/704 [==============================] - 26s 36ms/step - loss: 0.0903 - accuracy: 0.9690 - val_loss: 1.6374 - val_accuracy: 0.6290\n",
            "Epoch 12/30\n",
            "704/704 [==============================] - 25s 36ms/step - loss: 0.0769 - accuracy: 0.9738 - val_loss: 1.1871 - val_accuracy: 0.7370\n",
            "Epoch 13/30\n",
            "704/704 [==============================] - 25s 36ms/step - loss: 0.0601 - accuracy: 0.9795 - val_loss: 1.0690 - val_accuracy: 0.7616\n",
            "Epoch 14/30\n",
            "704/704 [==============================] - 25s 35ms/step - loss: 0.0470 - accuracy: 0.9844 - val_loss: 1.6859 - val_accuracy: 0.6658\n",
            "Epoch 15/30\n",
            "704/704 [==============================] - 24s 35ms/step - loss: 0.0553 - accuracy: 0.9819 - val_loss: 0.7579 - val_accuracy: 0.8294\n",
            "Epoch 16/30\n",
            "704/704 [==============================] - 24s 34ms/step - loss: 0.0344 - accuracy: 0.9885 - val_loss: 1.1501 - val_accuracy: 0.7484\n",
            "Epoch 17/30\n",
            "704/704 [==============================] - 24s 34ms/step - loss: 0.0373 - accuracy: 0.9876 - val_loss: 1.4014 - val_accuracy: 0.7182\n",
            "Epoch 18/30\n",
            "704/704 [==============================] - 24s 35ms/step - loss: 0.0528 - accuracy: 0.9819 - val_loss: 0.8760 - val_accuracy: 0.8090\n",
            "Epoch 19/30\n",
            "704/704 [==============================] - 25s 35ms/step - loss: 0.0351 - accuracy: 0.9886 - val_loss: 0.9377 - val_accuracy: 0.7986\n",
            "Epoch 20/30\n",
            "704/704 [==============================] - 25s 35ms/step - loss: 0.0262 - accuracy: 0.9924 - val_loss: 0.6915 - val_accuracy: 0.8510\n",
            "Epoch 21/30\n",
            "704/704 [==============================] - 24s 34ms/step - loss: 0.0195 - accuracy: 0.9938 - val_loss: 1.0198 - val_accuracy: 0.8040\n",
            "Epoch 22/30\n",
            "704/704 [==============================] - 24s 34ms/step - loss: 0.0158 - accuracy: 0.9949 - val_loss: 1.5971 - val_accuracy: 0.7128\n",
            "Epoch 23/30\n",
            "704/704 [==============================] - 24s 35ms/step - loss: 0.0157 - accuracy: 0.9954 - val_loss: 1.7118 - val_accuracy: 0.7054\n",
            "Epoch 24/30\n",
            "704/704 [==============================] - 24s 34ms/step - loss: 0.0249 - accuracy: 0.9924 - val_loss: 0.7109 - val_accuracy: 0.8486\n",
            "Epoch 25/30\n",
            "704/704 [==============================] - 24s 34ms/step - loss: 0.0154 - accuracy: 0.9948 - val_loss: 1.3003 - val_accuracy: 0.7518\n",
            "Epoch 26/30\n",
            "704/704 [==============================] - 25s 35ms/step - loss: 0.0266 - accuracy: 0.9912 - val_loss: 2.2677 - val_accuracy: 0.6072\n",
            "Epoch 27/30\n",
            "704/704 [==============================] - 24s 34ms/step - loss: 0.0337 - accuracy: 0.9891 - val_loss: 0.8278 - val_accuracy: 0.8340\n",
            "Epoch 28/30\n",
            "704/704 [==============================] - 24s 34ms/step - loss: 0.0174 - accuracy: 0.9945 - val_loss: 1.4696 - val_accuracy: 0.7138\n",
            "Epoch 29/30\n",
            "704/704 [==============================] - 24s 34ms/step - loss: 0.0221 - accuracy: 0.9926 - val_loss: 3.1387 - val_accuracy: 0.4800\n",
            "Epoch 30/30\n",
            "704/704 [==============================] - 24s 34ms/step - loss: 0.0459 - accuracy: 0.9847 - val_loss: 0.7176 - val_accuracy: 0.8474\n"
          ],
          "name": "stdout"
        }
      ]
    },
    {
      "cell_type": "code",
      "metadata": {
        "id": "sR_f3eGe1GVQ",
        "outputId": "0e0c52db-8b23-4328-c676-3113fc76f4aa",
        "colab": {
          "base_uri": "https://localhost:8080/"
        }
      },
      "source": [
        "from tensorflow.keras.applications.densenet import DenseNet121, DenseNet169\n",
        "import tensorflow as tf\n",
        "from tensorflow.keras.utils import to_categorical\n",
        "\n",
        "\n",
        "base_model = DenseNet121(include_top=False,weights=None,input_shape=(32,32,3))\n",
        "x = base_model.output\n",
        "x = tf.keras.layers.GlobalAveragePooling2D()(x) \n",
        "predictions = tf.keras.layers.Dense(units=10, activation=tf.keras.activations.softmax)(x)\n",
        "dense121_model = tf.keras.Model(inputs=base_model.input, outputs=predictions)\n",
        "\n",
        "dense121_model.compile(loss='sparse_categorical_crossentropy',\n",
        "              optimizer=tf.keras.optimizers.SGD(),\n",
        "              metrics=['accuracy'])\n",
        "\n",
        "history = dense121_model.fit(x_train, y_train,\n",
        "                    batch_size=64,\n",
        "                    epochs=30,\n",
        "                    validation_split=0.1)"
      ],
      "execution_count": 4,
      "outputs": [
        {
          "output_type": "stream",
          "text": [
            "Epoch 1/30\n",
            "704/704 [==============================] - 28s 40ms/step - loss: 1.7320 - accuracy: 0.3690 - val_loss: 2.2091 - val_accuracy: 0.2916\n",
            "Epoch 2/30\n",
            "704/704 [==============================] - 26s 36ms/step - loss: 1.4156 - accuracy: 0.4848 - val_loss: 4.0346 - val_accuracy: 0.1794\n",
            "Epoch 3/30\n",
            "704/704 [==============================] - 25s 36ms/step - loss: 1.2589 - accuracy: 0.5443 - val_loss: 1.6501 - val_accuracy: 0.4158\n",
            "Epoch 4/30\n",
            "704/704 [==============================] - 25s 36ms/step - loss: 1.1331 - accuracy: 0.5937 - val_loss: 1.6426 - val_accuracy: 0.4726\n",
            "Epoch 5/30\n",
            "704/704 [==============================] - 26s 36ms/step - loss: 1.0317 - accuracy: 0.6291 - val_loss: 2.8876 - val_accuracy: 0.3180\n",
            "Epoch 6/30\n",
            "704/704 [==============================] - 25s 36ms/step - loss: 0.9458 - accuracy: 0.6647 - val_loss: 3.6982 - val_accuracy: 0.2486\n",
            "Epoch 7/30\n",
            "704/704 [==============================] - 25s 35ms/step - loss: 0.8516 - accuracy: 0.6974 - val_loss: 1.9375 - val_accuracy: 0.4306\n",
            "Epoch 8/30\n",
            "704/704 [==============================] - 25s 35ms/step - loss: 0.7699 - accuracy: 0.7274 - val_loss: 2.0009 - val_accuracy: 0.4236\n",
            "Epoch 9/30\n",
            "704/704 [==============================] - 25s 35ms/step - loss: 0.6909 - accuracy: 0.7549 - val_loss: 1.2578 - val_accuracy: 0.5902\n",
            "Epoch 10/30\n",
            "704/704 [==============================] - 25s 35ms/step - loss: 0.6149 - accuracy: 0.7838 - val_loss: 1.3285 - val_accuracy: 0.5790\n",
            "Epoch 11/30\n",
            "704/704 [==============================] - 24s 35ms/step - loss: 0.5456 - accuracy: 0.8074 - val_loss: 1.8651 - val_accuracy: 0.4710\n",
            "Epoch 12/30\n",
            "704/704 [==============================] - 25s 35ms/step - loss: 0.4860 - accuracy: 0.8302 - val_loss: 1.7954 - val_accuracy: 0.5000\n",
            "Epoch 13/30\n",
            "704/704 [==============================] - 24s 35ms/step - loss: 0.4193 - accuracy: 0.8524 - val_loss: 1.8088 - val_accuracy: 0.4868\n",
            "Epoch 14/30\n",
            "704/704 [==============================] - 24s 35ms/step - loss: 0.3710 - accuracy: 0.8713 - val_loss: 2.5901 - val_accuracy: 0.4526\n",
            "Epoch 15/30\n",
            "704/704 [==============================] - 24s 35ms/step - loss: 0.3165 - accuracy: 0.8899 - val_loss: 1.9257 - val_accuracy: 0.4972\n",
            "Epoch 16/30\n",
            "704/704 [==============================] - 24s 34ms/step - loss: 0.2798 - accuracy: 0.9019 - val_loss: 2.2198 - val_accuracy: 0.5088\n",
            "Epoch 17/30\n",
            "704/704 [==============================] - 25s 35ms/step - loss: 0.2523 - accuracy: 0.9118 - val_loss: 5.1016 - val_accuracy: 0.3120\n",
            "Epoch 18/30\n",
            "704/704 [==============================] - 24s 34ms/step - loss: 0.2203 - accuracy: 0.9231 - val_loss: 2.9611 - val_accuracy: 0.4316\n",
            "Epoch 19/30\n",
            "704/704 [==============================] - 24s 35ms/step - loss: 0.1892 - accuracy: 0.9350 - val_loss: 3.3118 - val_accuracy: 0.4128\n",
            "Epoch 20/30\n",
            "704/704 [==============================] - 24s 34ms/step - loss: 0.1863 - accuracy: 0.9364 - val_loss: 2.4290 - val_accuracy: 0.5066\n",
            "Epoch 21/30\n",
            "704/704 [==============================] - 24s 34ms/step - loss: 0.1756 - accuracy: 0.9384 - val_loss: 2.3361 - val_accuracy: 0.5118\n",
            "Epoch 22/30\n",
            "704/704 [==============================] - 24s 34ms/step - loss: 0.1411 - accuracy: 0.9518 - val_loss: 3.0305 - val_accuracy: 0.4588\n",
            "Epoch 23/30\n",
            "704/704 [==============================] - 24s 34ms/step - loss: 0.1340 - accuracy: 0.9543 - val_loss: 3.1224 - val_accuracy: 0.4086\n",
            "Epoch 24/30\n",
            "704/704 [==============================] - 24s 34ms/step - loss: 0.1194 - accuracy: 0.9592 - val_loss: 2.8146 - val_accuracy: 0.5174\n",
            "Epoch 25/30\n",
            "704/704 [==============================] - 24s 34ms/step - loss: 0.1123 - accuracy: 0.9620 - val_loss: 3.6520 - val_accuracy: 0.3888\n",
            "Epoch 26/30\n",
            "704/704 [==============================] - 24s 34ms/step - loss: 0.1212 - accuracy: 0.9590 - val_loss: 2.0741 - val_accuracy: 0.5812\n",
            "Epoch 27/30\n",
            "704/704 [==============================] - 24s 34ms/step - loss: 0.0818 - accuracy: 0.9727 - val_loss: 1.6392 - val_accuracy: 0.6544\n",
            "Epoch 28/30\n",
            "704/704 [==============================] - 24s 34ms/step - loss: 0.0600 - accuracy: 0.9804 - val_loss: 3.2385 - val_accuracy: 0.4326\n",
            "Epoch 29/30\n",
            "704/704 [==============================] - 24s 34ms/step - loss: 0.0787 - accuracy: 0.9730 - val_loss: 4.9328 - val_accuracy: 0.3482\n",
            "Epoch 30/30\n",
            "704/704 [==============================] - 24s 34ms/step - loss: 0.0702 - accuracy: 0.9767 - val_loss: 3.1819 - val_accuracy: 0.4978\n"
          ],
          "name": "stdout"
        }
      ]
    },
    {
      "cell_type": "code",
      "metadata": {
        "scrolled": false,
        "id": "6YxGXxNuI36q",
        "outputId": "977b1778-eeba-4cec-afa0-0134716a1211",
        "colab": {
          "base_uri": "https://localhost:8080/"
        }
      },
      "source": [
        "#不使用imagenet预训练权重模型的结果\n",
        "loss,accuracy = dense121_model.evaluate(x_test,y_test,verbose=2)\n",
        "print('test loss',loss)\n",
        "print('test accuracy',accuracy)"
      ],
      "execution_count": 5,
      "outputs": [
        {
          "output_type": "stream",
          "text": [
            "313/313 - 3s - loss: 3.2058 - accuracy: 0.4898\n",
            "test loss 3.2058067321777344\n",
            "test accuracy 0.48980000615119934\n"
          ],
          "name": "stdout"
        }
      ]
    },
    {
      "cell_type": "code",
      "metadata": {
        "id": "_tdzbv8kkKAA",
        "outputId": "186d191a-8ceb-4974-f3fe-2c5ba066c64b",
        "colab": {
          "base_uri": "https://localhost:8080/"
        }
      },
      "source": [
        "#使用imagenet预训练模型权重\n",
        "loss,accuracy = dense121_model.evaluate(x_test,y_test,verbose=2)\n",
        "print('test loss',loss)\n",
        "print('test accuracy',accuracy)"
      ],
      "execution_count": 10,
      "outputs": [
        {
          "output_type": "stream",
          "text": [
            "313/313 - 3s - loss: 0.7618 - accuracy: 0.8437\n",
            "test loss 0.7617789506912231\n",
            "test accuracy 0.8436999917030334\n"
          ],
          "name": "stdout"
        }
      ]
    },
    {
      "cell_type": "code",
      "metadata": {
        "id": "noqj5VnwI36s",
        "outputId": "69fd4d55-ddc1-4a0a-83f9-e9f7008c4089",
        "colab": {
          "base_uri": "https://localhost:8080/"
        }
      },
      "source": [
        "base_model = DenseNet169(include_top=False,weights='imagenet',input_shape=(32,32,3))\n",
        "x = base_model.output\n",
        "x = tf.keras.layers.GlobalAveragePooling2D()(x) \n",
        "predictions = tf.keras.layers.Dense(units=10, activation=tf.keras.activations.softmax)(x)\n",
        "dense169_model = tf.keras.Model(inputs=base_model.input, outputs=predictions)\n",
        "\n",
        "dense169_model.compile(loss='sparse_categorical_crossentropy',\n",
        "              optimizer=tf.keras.optimizers.SGD(),\n",
        "              metrics=['accuracy'])\n",
        "\n",
        "history = dense169_model.fit(x_train, y_train,\n",
        "                    batch_size=64,\n",
        "                    epochs=30,\n",
        "                    validation_split=0.1)\n",
        "\n",
        "loss,accuracy = dense169_model.evaluate(x_test,y_test,verbose=2)\n",
        "print('test loss',loss)\n",
        "print('test accuracy',accuracy)\n"
      ],
      "execution_count": 9,
      "outputs": [
        {
          "output_type": "stream",
          "text": [
            "Epoch 1/30\n",
            "704/704 [==============================] - 37s 53ms/step - loss: 0.9751 - accuracy: 0.6636 - val_loss: 1.1039 - val_accuracy: 0.6404\n",
            "Epoch 2/30\n",
            "704/704 [==============================] - 34s 49ms/step - loss: 0.5332 - accuracy: 0.8148 - val_loss: 0.9029 - val_accuracy: 0.7014\n",
            "Epoch 3/30\n",
            "704/704 [==============================] - 34s 48ms/step - loss: 0.3646 - accuracy: 0.8741 - val_loss: 0.6474 - val_accuracy: 0.7946\n",
            "Epoch 4/30\n",
            "704/704 [==============================] - 33s 48ms/step - loss: 0.2473 - accuracy: 0.9150 - val_loss: 0.6929 - val_accuracy: 0.7882\n",
            "Epoch 5/30\n",
            "704/704 [==============================] - 34s 48ms/step - loss: 0.1763 - accuracy: 0.9402 - val_loss: 1.3457 - val_accuracy: 0.7020\n",
            "Epoch 6/30\n",
            "704/704 [==============================] - 33s 47ms/step - loss: 0.1322 - accuracy: 0.9550 - val_loss: 0.9970 - val_accuracy: 0.7228\n",
            "Epoch 7/30\n",
            "704/704 [==============================] - 33s 47ms/step - loss: 0.0925 - accuracy: 0.9689 - val_loss: 0.7198 - val_accuracy: 0.8198\n",
            "Epoch 8/30\n",
            "704/704 [==============================] - 33s 47ms/step - loss: 0.0701 - accuracy: 0.9767 - val_loss: 1.3018 - val_accuracy: 0.7124\n",
            "Epoch 9/30\n",
            "704/704 [==============================] - 33s 47ms/step - loss: 0.0710 - accuracy: 0.9764 - val_loss: 18.8165 - val_accuracy: 0.1290\n",
            "Epoch 10/30\n",
            "704/704 [==============================] - 33s 47ms/step - loss: 0.1805 - accuracy: 0.9378 - val_loss: 0.9491 - val_accuracy: 0.7684\n",
            "Epoch 11/30\n",
            "704/704 [==============================] - 33s 47ms/step - loss: 0.0661 - accuracy: 0.9775 - val_loss: 0.8140 - val_accuracy: 0.8154\n",
            "Epoch 12/30\n",
            "704/704 [==============================] - 33s 47ms/step - loss: 0.0416 - accuracy: 0.9866 - val_loss: 0.7127 - val_accuracy: 0.8272\n",
            "Epoch 13/30\n",
            "704/704 [==============================] - 33s 47ms/step - loss: 0.0292 - accuracy: 0.9911 - val_loss: 0.9446 - val_accuracy: 0.7960\n",
            "Epoch 14/30\n",
            "704/704 [==============================] - 33s 47ms/step - loss: 0.0328 - accuracy: 0.9897 - val_loss: 0.6937 - val_accuracy: 0.8440\n",
            "Epoch 15/30\n",
            "704/704 [==============================] - 33s 47ms/step - loss: 0.0238 - accuracy: 0.9923 - val_loss: 1.0510 - val_accuracy: 0.7838\n",
            "Epoch 16/30\n",
            "704/704 [==============================] - 33s 47ms/step - loss: 0.0251 - accuracy: 0.9924 - val_loss: 6.1746 - val_accuracy: 0.2684\n",
            "Epoch 17/30\n",
            "704/704 [==============================] - 33s 47ms/step - loss: 0.0700 - accuracy: 0.9763 - val_loss: 1.4895 - val_accuracy: 0.6804\n",
            "Epoch 18/30\n",
            "704/704 [==============================] - 33s 47ms/step - loss: 0.0414 - accuracy: 0.9864 - val_loss: 0.6568 - val_accuracy: 0.8546\n",
            "Epoch 19/30\n",
            "704/704 [==============================] - 33s 47ms/step - loss: 0.0208 - accuracy: 0.9936 - val_loss: 1.7825 - val_accuracy: 0.6966\n",
            "Epoch 20/30\n",
            "704/704 [==============================] - 33s 47ms/step - loss: 0.0325 - accuracy: 0.9893 - val_loss: 1.2202 - val_accuracy: 0.7572\n",
            "Epoch 21/30\n",
            "704/704 [==============================] - 33s 47ms/step - loss: 0.0233 - accuracy: 0.9931 - val_loss: 1.5379 - val_accuracy: 0.6952\n",
            "Epoch 22/30\n",
            "704/704 [==============================] - 33s 47ms/step - loss: 0.0264 - accuracy: 0.9912 - val_loss: 1.4612 - val_accuracy: 0.7320\n",
            "Epoch 23/30\n",
            "704/704 [==============================] - 33s 47ms/step - loss: 0.0214 - accuracy: 0.9932 - val_loss: 0.7533 - val_accuracy: 0.8460\n",
            "Epoch 24/30\n",
            "704/704 [==============================] - 33s 47ms/step - loss: 0.0124 - accuracy: 0.9965 - val_loss: 4.2391 - val_accuracy: 0.3942\n",
            "Epoch 25/30\n",
            "704/704 [==============================] - 33s 47ms/step - loss: 0.0307 - accuracy: 0.9900 - val_loss: 2.5521 - val_accuracy: 0.5990\n",
            "Epoch 26/30\n",
            "704/704 [==============================] - 33s 47ms/step - loss: 0.0288 - accuracy: 0.9904 - val_loss: 0.8608 - val_accuracy: 0.8270\n",
            "Epoch 27/30\n",
            "704/704 [==============================] - 33s 47ms/step - loss: 0.0140 - accuracy: 0.9955 - val_loss: 2.0415 - val_accuracy: 0.6268\n",
            "Epoch 28/30\n",
            "704/704 [==============================] - 33s 47ms/step - loss: 0.0157 - accuracy: 0.9954 - val_loss: 0.7073 - val_accuracy: 0.8570\n",
            "Epoch 29/30\n",
            "704/704 [==============================] - 33s 47ms/step - loss: 0.0084 - accuracy: 0.9975 - val_loss: 2.5056 - val_accuracy: 0.6352\n",
            "Epoch 30/30\n",
            "704/704 [==============================] - 33s 47ms/step - loss: 0.0176 - accuracy: 0.9946 - val_loss: 0.7332 - val_accuracy: 0.8544\n",
            "313/313 - 4s - loss: 0.7747 - accuracy: 0.8483\n",
            "test loss 0.7747172117233276\n",
            "test accuracy 0.8482999801635742\n"
          ],
          "name": "stdout"
        }
      ]
    },
    {
      "cell_type": "markdown",
      "metadata": {
        "id": "09o_ZlHOI36u"
      },
      "source": [
        "---\n",
        "## 6. Analysis your results. (20 marks)\n",
        "Compare the performance of your models with the following analysis. Both English and Chinese answers are acceptable.\n",
        "1. Is your implementation of DenseNet-169 better than DenseNet-121? If yes, how is the improvement? If no, try to figure the reason out based on your experiments. (10 marks)\n",
        "\n",
        "Answer: DenseNet-169模型表现的更好。在学习率等超参保持一致的情况下，两个模型训练50个epoch后，DenseNet-169在测试集上的准确率为74.2%,DenseNet-121的准确率为72.8%。测试集的准确率提高了。\n",
        "\n",
        "2. Compare the results of your implementation with the pre-trained models from Keras. (10 marks)\n",
        "\n",
        "Answer: 预训练模型网络训练的更快，在训练完第一个epoch后loss为0.98，准确率为66%。因为预训练模型中参数使用的是在imagenet中训练好的参数，而我们自定义模型中参数是随机初始化的。最后在训练完30个epoch后也表现的最好，测试集准确率为84%。\n",
        "\n"
      ]
    },
    {
      "cell_type": "code",
      "metadata": {
        "id": "h4ayC977I36v"
      },
      "source": [
        ""
      ],
      "execution_count": null,
      "outputs": []
    }
  ]
}